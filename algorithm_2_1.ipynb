{
 "cells": [
  {
   "cell_type": "markdown",
   "metadata": {},
   "source": [
    "# Algorithm 2.1\n",
    "## Predictions and log marginal likelihood for Gaussian process regression\n",
    "\n",
    "**Input**: X, y, k (coveriance function), $\\sigma^2_n$ (noice level), $x_*$ (test input)\n",
    "\n",
    "1. $L = \\text{cholesky}(K + \\sigma^2_n I)$\n",
    "2. $\\alpha = L^T \\backslash (L \\backslash y)$\n",
    "3. $\\bar{f}_* = k^T_* \\cdot \\alpha$\n",
    "4. $v = L \\backslash k_*$\n",
    "5. $\\mathbb{V}[f_*] = k(x, x_*) - v^Tv$\n",
    "6. $\\log p(y|x) = \\frac{1}{2} y^T \\alpha - \\Sigma_i \\log L_{ii} - \\frac{n}{2} \\log 2 \\pi$\n",
    "7. **return** $f_*$ (mean), $\\mathbb{V}[f_*]$ (variance), log p(y|X) (log marginal likelihood)\n",
    "\n",
    "Let's start by generating a simple data set to illustrate the algorithm above."
   ]
  },
  {
   "cell_type": "code",
   "execution_count": 1,
   "metadata": {},
   "outputs": [],
   "source": [
    "import numpy as np\n",
    "import scipy\n",
    "from matplotlib import pyplot as plt"
   ]
  },
  {
   "cell_type": "code",
   "execution_count": 26,
   "metadata": {},
   "outputs": [
    {
     "data": {
      "text/plain": [
       "Text(0.5, 1.0, 'Simple, non-linear data set')"
      ]
     },
     "execution_count": 26,
     "metadata": {},
     "output_type": "execute_result"
    },
    {
     "data": {
      "image/png": "[encoded data removed]",
      "text/plain": [
       "<Figure size 432x288 with 1 Axes>"
      ]
     },
     "metadata": {
      "needs_background": "light"
     },
     "output_type": "display_data"
    }
   ],
   "source": [
    "X = np.linspace(-5, 5, 25)\n",
    "\n",
    "def f(x):\n",
    "    return np.sin(x) + np.random.rand()\n",
    "\n",
    "y = [f(x) for x in X]\n",
    "\n",
    "plt.scatter(X, y)\n",
    "plt.xlabel(\"X\")\n",
    "plt.ylabel(\"y\")\n",
    "plt.title(\"Simple, non-linear data set\")"
   ]
  },
  {
   "cell_type": "markdown",
   "metadata": {},
   "source": [
    "Let's use the radial basis function (or squared exponential kernel) for our covariance function $k$:\n",
    "\n",
    "$k(x, x') = \\sigma^2 \\cdot \\exp(- \\frac{(x - x')^2}{2l^2})$\n",
    "\n",
    "Note that it has 2 hyperparameters: $\\sigma^2$ (output variance) and l (length scale)."
   ]
  },
  {
   "cell_type": "code",
   "execution_count": 27,
   "metadata": {},
   "outputs": [],
   "source": [
    "def rbf(x1, x2, var, l):\n",
    "    return var * np.exp(-(x1 - x2)**2 / 2 * l**2)"
   ]
  },
  {
   "cell_type": "code",
   "execution_count": null,
   "metadata": {},
   "outputs": [],
   "source": []
  }
 ],
 "metadata": {
  "kernelspec": {
   "display_name": "Python 3",
   "language": "python",
   "name": "python3"
  },
  "language_info": {
   "codemirror_mode": {
    "name": "ipython",
    "version": 3
   },
   "file_extension": ".py",
   "mimetype": "text/x-python",
   "name": "python",
   "nbconvert_exporter": "python",
   "pygments_lexer": "ipython3",
   "version": "3.7.1"
  }
 },
 "nbformat": 4,
 "nbformat_minor": 4
}
